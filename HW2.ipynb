{
 "cells": [
  {
   "cell_type": "code",
   "execution_count": 4,
   "metadata": {},
   "outputs": [],
   "source": [
    "import numpy as np \n",
    "\n",
    "def combinations(n: int, k: int) -> int:\n",
    "    \"\"\"Число сочетаний.\n",
    "    \"\"\"\n",
    "    \n",
    "    return np.math.factorial(n) // (np.math.factorial(k) * np.math.factorial(n - k))"
   ]
  },
  {
   "cell_type": "markdown",
   "metadata": {},
   "source": [
    "#### Задача 1\n",
    "\n",
    "Контрольная работа состоит из пяти вопросов. На каждый вопрос приведено четыре варианта ответа, один из которых правильный. Составьте закон распределения числа правильных ответов при простом угадывании. Найдите M(X), D(X)."
   ]
  },
  {
   "cell_type": "markdown",
   "metadata": {},
   "source": [
    "Всего 5 вопросов. Для каждого вопроса - 4 ответа, 1 правильный, 3 неправильных. \n",
    "Вероятность угадать правильный ответ в 1 вопросе - 1/4, вероятность угадать неправильный ответ - 3/4. Тогда для 5 вопросов возможны следующие варианты: правильно угаданные ответы могут быть равны 0, 1, 2, 3, 4, 5.\n",
    "$$P(X = 0) = C_n^k p^k (1 - p)^{n - k} = C_5^0 \\cdot 0.25^0 \\cdot 0.75^5 = \\frac{5!}{0! \\: (5-0)!} \\cdot 0.25^0 \\cdot 0.75^5 = 1 \\cdot 1 \\cdot 0.2373046875 = 0.237.$$\n",
    "$$P(X = 1) = C_n^k p^k (1 - p)^{n - k} = C_5^1 \\cdot 0.25^1 \\cdot 0.75^4 = 0.396.$$\n",
    "$$P(X = 2) = C_n^k p^k (1 - p)^{n - k} = C_5^2 \\cdot 0.25^2 \\cdot 0.75^3 = 0.264.$$\n",
    "$$P(X = 3) = C_n^k p^k (1 - p)^{n - k} = C_5^3 \\cdot 0.25^3 \\cdot 0.75^2 = 0.088.$$\n",
    "$$P(X = 4) = C_n^k p^k (1 - p)^{n - k} = C_5^4 \\cdot 0.25^4 \\cdot 0.75^1 = 0.015.$$\n",
    "$$P(X = 5) = C_n^k p^k (1 - p)^{n - k} = C_5^5 \\cdot 0.25^5 \\cdot 0.75^0 = 0.001.$$"
   ]
  },
  {
   "cell_type": "code",
   "execution_count": 5,
   "metadata": {},
   "outputs": [
    {
     "data": {
      "text/plain": [
       "0.2373046875"
      ]
     },
     "execution_count": 5,
     "metadata": {},
     "output_type": "execute_result"
    }
   ],
   "source": [
    "P0 = combinations(5, 0)*pow(0.25, 0)*pow(0.75, 5)\n",
    "P0"
   ]
  },
  {
   "cell_type": "code",
   "execution_count": 6,
   "metadata": {},
   "outputs": [
    {
     "data": {
      "text/plain": [
       "0.3955078125"
      ]
     },
     "execution_count": 6,
     "metadata": {},
     "output_type": "execute_result"
    }
   ],
   "source": [
    "P1 = combinations(5, 1)*pow(0.25, 1)*pow(0.75, 4)\n",
    "P1"
   ]
  },
  {
   "cell_type": "code",
   "execution_count": 8,
   "metadata": {},
   "outputs": [
    {
     "data": {
      "text/plain": [
       "0.263671875"
      ]
     },
     "execution_count": 8,
     "metadata": {},
     "output_type": "execute_result"
    }
   ],
   "source": [
    "P2 = combinations(5, 2)*pow(0.25, 2)*pow(0.75, 3)\n",
    "P2"
   ]
  },
  {
   "cell_type": "code",
   "execution_count": 9,
   "metadata": {},
   "outputs": [
    {
     "data": {
      "text/plain": [
       "0.087890625"
      ]
     },
     "execution_count": 9,
     "metadata": {},
     "output_type": "execute_result"
    }
   ],
   "source": [
    "P3 = combinations(5, 3)*pow(0.25, 3)*pow(0.75, 2)\n",
    "P3"
   ]
  },
  {
   "cell_type": "code",
   "execution_count": 10,
   "metadata": {},
   "outputs": [
    {
     "data": {
      "text/plain": [
       "0.0146484375"
      ]
     },
     "execution_count": 10,
     "metadata": {},
     "output_type": "execute_result"
    }
   ],
   "source": [
    "P4 = combinations(5, 4)*pow(0.25, 4)*pow(0.75, 1)\n",
    "P4"
   ]
  },
  {
   "cell_type": "code",
   "execution_count": 11,
   "metadata": {},
   "outputs": [
    {
     "data": {
      "text/plain": [
       "0.0009765625"
      ]
     },
     "execution_count": 11,
     "metadata": {},
     "output_type": "execute_result"
    }
   ],
   "source": [
    "P5 = combinations(5, 5)*pow(0.25, 5)*pow(0.75, 0)\n",
    "P5"
   ]
  },
  {
   "cell_type": "markdown",
   "metadata": {},
   "source": [
    "Тогда закон распределения примет вид:\n",
    "\n",
    "<table border=\"3\">\n",
    "    <tr>\n",
    "        <th>$x$</th>\n",
    "        <td>0</td>\n",
    "        <td>1</td>\n",
    "        <td>2</td>\n",
    "        <td>3</td>\n",
    "        <td>4</td>\n",
    "        <td>5</td>\n",
    "</tr>\n",
    "    <tr>\n",
    "        <th>$P(X=x)$</th>\n",
    "        <td>0.237</td>\n",
    "        <td>0.396</td>\n",
    "        <td>0.264</td>\n",
    "        <td>0.088</td>\n",
    "        <td>0.015</td>\n",
    "        <td>0.001</td>\n",
    "    </tr>\n",
    "</table>"
   ]
  },
  {
   "cell_type": "code",
   "execution_count": 13,
   "metadata": {},
   "outputs": [
    {
     "data": {
      "text/plain": [
       "1.001"
      ]
     },
     "execution_count": 13,
     "metadata": {},
     "output_type": "execute_result"
    }
   ],
   "source": [
    "0.237+0.396+0.264+0.088+0.015+0.001"
   ]
  },
  {
   "cell_type": "raw",
   "metadata": {},
   "source": [
    "Посчитаем мат. ожидание и дисперсию"
   ]
  },
  {
   "cell_type": "code",
   "execution_count": 17,
   "metadata": {},
   "outputs": [
    {
     "name": "stdout",
     "output_type": "stream",
     "text": [
      "1.25\n",
      "0.9375\n"
     ]
    }
   ],
   "source": [
    "n = 5 \n",
    "p = 0.25\n",
    "M = n*p\n",
    "print(M)\n",
    "D = M*(1-p)\n",
    "print(D)"
   ]
  },
  {
   "cell_type": "markdown",
   "metadata": {},
   "source": [
    "#### __Задача 2__\n",
    "\n",
    "Вероятность попадания в цель при одном выстреле равна 0.01. Какова вероятность того, что число попаданий при 200 выстрелах будет не менее 5 и не более 10?\n"
   ]
  },
  {
   "cell_type": "raw",
   "metadata": {},
   "source": [
    "Допустим мы имеем дело с ситуацией счетчика (стреляют, стреляют, стреляют... много-много раз). Тогда нужно рассмотреть эту задачу как распределение Пуассона.\n",
    "Тогда n = 200 (число выстрелов за определенное время), p = 0.01.\n",
    "Получаем а = 200*0.01 = 2\n",
    "Теперь посчитаем вероятности попасть 5, 6, 7, 8, 9, 10 раз и сложим их вместе (у нас же диапазон этих значений)."
   ]
  },
  {
   "cell_type": "code",
   "execution_count": 19,
   "metadata": {},
   "outputs": [],
   "source": [
    "def puasson(a, k):\n",
    "    p = (a ** k) * (np.exp(-a)) / np.math.factorial(k)\n",
    "    return p"
   ]
  },
  {
   "cell_type": "code",
   "execution_count": 20,
   "metadata": {},
   "outputs": [
    {
     "name": "stdout",
     "output_type": "stream",
     "text": [
      "0.03608940886309672\n"
     ]
    }
   ],
   "source": [
    "a = 2\n",
    "P5 = puasson(a, 5)\n",
    "print(P5)"
   ]
  },
  {
   "cell_type": "code",
   "execution_count": 21,
   "metadata": {},
   "outputs": [
    {
     "name": "stdout",
     "output_type": "stream",
     "text": [
      "0.012029802954365574\n"
     ]
    }
   ],
   "source": [
    "P6 = puasson(a, 6)\n",
    "print(P6)"
   ]
  },
  {
   "cell_type": "code",
   "execution_count": 22,
   "metadata": {},
   "outputs": [
    {
     "name": "stdout",
     "output_type": "stream",
     "text": [
      "0.0034370865583901638\n"
     ]
    }
   ],
   "source": [
    "P7 = puasson(a, 7)\n",
    "print(P7)"
   ]
  },
  {
   "cell_type": "code",
   "execution_count": 23,
   "metadata": {},
   "outputs": [
    {
     "name": "stdout",
     "output_type": "stream",
     "text": [
      "0.0008592716395975409\n"
     ]
    }
   ],
   "source": [
    "P8 = puasson(a, 8)\n",
    "print(P8)"
   ]
  },
  {
   "cell_type": "code",
   "execution_count": 24,
   "metadata": {},
   "outputs": [
    {
     "name": "stdout",
     "output_type": "stream",
     "text": [
      "0.00019094925324389798\n"
     ]
    }
   ],
   "source": [
    "P9 = puasson(a, 9)\n",
    "print(P9)"
   ]
  },
  {
   "cell_type": "code",
   "execution_count": 25,
   "metadata": {},
   "outputs": [
    {
     "name": "stdout",
     "output_type": "stream",
     "text": [
      "3.8189850648779595e-05\n"
     ]
    }
   ],
   "source": [
    "P10 = puasson(a, 10)\n",
    "print(P10)"
   ]
  },
  {
   "cell_type": "code",
   "execution_count": 26,
   "metadata": {},
   "outputs": [
    {
     "data": {
      "text/plain": [
       "0.052644709119342686"
      ]
     },
     "execution_count": 26,
     "metadata": {},
     "output_type": "execute_result"
    }
   ],
   "source": [
    "P = P5 + P6 + P7 + P8 + P9 + P10\n",
    "P"
   ]
  },
  {
   "cell_type": "raw",
   "metadata": {},
   "source": [
    "Получили вероятность примерно равную 0.053 (5.3%)"
   ]
  },
  {
   "cell_type": "markdown",
   "metadata": {},
   "source": [
    "#### __Задача 3__\n",
    "\n",
    "В условиях предыдущей задачи сколько выстрелов нужно сделать чтобы быть уверенным с вероятностью 0.9, что хотя бы 10 раз будет совершено попадание?\n",
    "\n",
    "_Подсказка_. Как посчитать `P(X >= k)` для величины `X`, имеющей распределение Пуассона? Здесь предстоит немножко покодить.\n"
   ]
  },
  {
   "cell_type": "markdown",
   "metadata": {},
   "source": [
    "Нужно проссуммировать вероятности больше попасть в мишень более 10 раз?\n",
    "У нас есть P, есть k (>=10 = 10, 11, 12...). Берем из предыдущей задачи p=0.01. \n",
    "$$P(X) = \\dfrac{a^{k} \\cdot e^{-a}}{k!}.$$\n",
    "$$0.9 = \\dfrac{(n*0.01)^{10...} \\cdot e^{-(n*0.01)}}{10...!}.$$\n",
    "По сути, нужно решить уравнение - найти n - для k=10, как минимально допустимого количества попаданий.\n",
    "\n",
    "\n",
    "Пыталась решить на листочке... Не вышло. ))\n",
    "\n",
    "Посмотрела подсказку в разборе в вебинаре)  Исходя из этой подсказки попробуем найти вероятность от обратного (что попадание не будет совершено 10 раз: 1 - вероятность, о которой я рассуждала при k=10). \n"
   ]
  },
  {
   "cell_type": "code",
   "execution_count": 5,
   "metadata": {},
   "outputs": [],
   "source": [
    "# функция Пуассона была задана выше, копирую для наглядности\n",
    "def puasson(a, k):\n",
    "    p = (a ** k) * (np.exp(-a)) / np.math.factorial(k)\n",
    "    return p"
   ]
  },
  {
   "cell_type": "code",
   "execution_count": 6,
   "metadata": {},
   "outputs": [],
   "source": [
    "# функция для суммирования вероятностей по закону распределения Пуассона для k<10 (меньше 10 попаданий), а затем получившуюся суммарную вероятность вычитаем из единицы.\n",
    "def puasson_sum_fin(a, k):\n",
    "    psum = sum(puasson(a, i) for i in range(k))\n",
    "    pfin = 1 - psum\n",
    "    return pfin"
   ]
  },
  {
   "cell_type": "markdown",
   "metadata": {},
   "source": [
    "Нас интересует, какое n (количество выстрелов) наиболее подходит для случая, когда вероятность попасть в мишень 10 раз равно 0.9. При этом единчно попасть (при одном выстреле в мишень) мы можем с вероятностью 0.01. "
   ]
  },
  {
   "cell_type": "code",
   "execution_count": 15,
   "metadata": {},
   "outputs": [
    {
     "name": "stdout",
     "output_type": "stream",
     "text": [
      "n = 200, probability = 4.6498075017109564e-05\n",
      "n = 400, probability = 0.00813224279693403\n",
      "n = 600, probability = 0.08392401699487573\n",
      "n = 800, probability = 0.28337574127298915\n",
      "n = 1000, probability = 0.5420702855281477\n",
      "n = 1200, probability = 0.7576078383294876\n",
      "n = 1400, probability = 0.890600630357261\n",
      "YES!\n",
      "n = 1421, probability = 0.9001760722984115\n"
     ]
    }
   ],
   "source": [
    "p = 0.01\n",
    "k = 10\n",
    "# n = ?\n",
    "\n",
    "n_possible = np.arange(10, 10000)\n",
    "\n",
    "for i in n_possible:\n",
    "    a = i*p\n",
    "    prob_fin = puasson_sum_fin(a, k)\n",
    "    if i % 200 == 0:\n",
    "        print(f'n = {i}, probability = {prob_fin}')\n",
    "    if prob_fin >= 0.9:\n",
    "        print(f'YES!')\n",
    "        print(f'n = {i}, probability = {prob_fin}')\n",
    "        break\n",
    "    "
   ]
  },
  {
   "cell_type": "code",
   "execution_count": null,
   "metadata": {},
   "outputs": [],
   "source": []
  }
 ],
 "metadata": {
  "kernelspec": {
   "display_name": "Python 3",
   "language": "python",
   "name": "python3"
  },
  "language_info": {
   "codemirror_mode": {
    "name": "ipython",
    "version": 3
   },
   "file_extension": ".py",
   "mimetype": "text/x-python",
   "name": "python",
   "nbconvert_exporter": "python",
   "pygments_lexer": "ipython3",
   "version": "3.7.1"
  }
 },
 "nbformat": 4,
 "nbformat_minor": 2
}
