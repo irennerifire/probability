{
 "cells": [
  {
   "cell_type": "code",
   "execution_count": 3,
   "metadata": {},
   "outputs": [],
   "source": [
    "import numpy as np\n",
    "import scipy.stats as stats"
   ]
  },
  {
   "cell_type": "markdown",
   "metadata": {},
   "source": [
    "#### __Задача 1__\n",
    "\n",
    "Утверждается, что шарики для подшипников, изготовленные автоматическим станком, имеют средний диаметр 17 мм. Используя уровень значимости 0.025 и правостороннюю критическую область, проверить данную гипотезу при условии, что в выборке из 100 шариков средний диаметр оказался равным 17.5 мм, а дисперсия известна и равна 4 мм."
   ]
  },
  {
   "cell_type": "markdown",
   "metadata": {},
   "source": [
    "Во-первых, у нас известно мат. ожидание и дисперсия, а значит, известно и какую статистику будем применять.\n",
    "\n",
    "H0: мат. ожидание диаметра подшипников равно 17 мм (а = 17).\n",
    "\n",
    "n = 100 - количество элементов в выборке\n",
    "\n",
    "D = 4 мм -> сигма = 2 мм\n",
    "\n",
    "Мат. ожидание выборки 17.5 мм\n",
    "\n",
    "Функция статистики примет вид:\n",
    "\n",
    "$$T(X) = \\dfrac{\\overline{X} - 17}{2 / 10} = 5 \\cdot (\\overline{X} - 17).$$\n",
    "\n",
    "Уровень значимости альфа = 0.025. Найдем квантиль для правосторонней критической области:"
   ]
  },
  {
   "cell_type": "code",
   "execution_count": 4,
   "metadata": {},
   "outputs": [
    {
     "data": {
      "text/plain": [
       "-2.241402727604945"
      ]
     },
     "execution_count": 4,
     "metadata": {},
     "output_type": "execute_result"
    }
   ],
   "source": [
    "n = 100\n",
    "a = 17\n",
    "sigma = 2\n",
    "alpha = 0.025\n",
    "\n",
    "q = stats.norm.ppf(alpha / 2)\n",
    "q\n"
   ]
  },
  {
   "cell_type": "code",
   "execution_count": 6,
   "metadata": {},
   "outputs": [
    {
     "name": "stdout",
     "output_type": "stream",
     "text": [
      "[16.96020355 20.13497158 18.1654137  17.77906001 13.66187457 13.46489674\n",
      " 17.36400054 14.18384343 16.29905412 18.06152129 20.38461006 18.29428947\n",
      " 19.02120134 15.92933462 19.17386459 20.7715087  16.99518538 14.51019618\n",
      " 16.12791937 18.73773014 21.38500777 18.21305759 21.14161619 17.26444932\n",
      " 18.3119433  17.42249559 18.05492112 15.29016829 14.24899446 16.86595956\n",
      " 16.37733032 19.40219368 20.73250524 16.07610739 18.77700604 17.58465214\n",
      " 16.01715453 15.6320824  18.94593798 17.68574624 20.75821487 20.43579276\n",
      " 18.14513533 14.80012249 18.33524755 17.85210633 16.63698567 20.34732784\n",
      " 19.18964712 18.28412277 16.91646746 19.52154356 17.42513859 13.46673138\n",
      " 19.86685952 16.80991341 15.13510005 14.91215376 18.00304891 20.39530532\n",
      " 18.328818   20.10903056 17.50725459 15.62994449 17.93143499 19.77985532\n",
      " 15.18612514 16.08713838 13.86183205 18.99740336 19.51957999 21.18653893\n",
      " 15.98627369 18.03970069 17.29232206 16.11332858 17.08553432 21.74526706\n",
      " 19.35330435 16.22043627 18.8127192  20.25142211 22.19406565 18.7535186\n",
      " 15.53586765 19.25810588 18.07366805 17.50993559 13.88499542 16.69222271\n",
      " 16.78461541 16.02571561 18.40502553 19.10246498 18.66802406 20.27920902\n",
      " 17.22648766 17.67480829 15.41915157 21.62841975]\n"
     ]
    }
   ],
   "source": [
    "#Сгенерируем выборку 100 подшипников с a=17.5 и sigma=2\n",
    "n = 100\n",
    "samples = np.random.normal(17.5, 2, size=n)\n",
    "print(samples)"
   ]
  },
  {
   "cell_type": "code",
   "execution_count": 7,
   "metadata": {},
   "outputs": [
    {
     "data": {
      "text/plain": [
       "17.76828538797346"
      ]
     },
     "execution_count": 7,
     "metadata": {},
     "output_type": "execute_result"
    }
   ],
   "source": [
    "meanT = samples.mean()\n",
    "meanT"
   ]
  },
  {
   "cell_type": "code",
   "execution_count": 9,
   "metadata": {},
   "outputs": [
    {
     "data": {
      "text/plain": [
       "3.8414269398673007"
      ]
     },
     "execution_count": 9,
     "metadata": {},
     "output_type": "execute_result"
    }
   ],
   "source": [
    "#Проверим гипотезу, посчитав статистику:\n",
    "T = 5*(meanT-17)\n",
    "T"
   ]
  },
  {
   "cell_type": "markdown",
   "metadata": {},
   "source": [
    "Как видим, значение не попало в критическую область (вышло за ее пределы), так что гипотеза о среднем диаметре подшипников в 17 мм неверна."
   ]
  },
  {
   "cell_type": "markdown",
   "metadata": {},
   "source": [
    "__Задача 2__\n",
    "\n",
    "Известно, что генеральная совокупность распределена нормально с известным средним квадратическим отклонением 16. Найти доверительный интервал для оценки математического ожидания `a` с надёжностью 0.95, если выборочное среднее равно 80, а объём равен 256."
   ]
  },
  {
   "cell_type": "markdown",
   "metadata": {},
   "source": [
    "$$\n",
    "P \\left(\n",
    "    \\overline{X} - t_{1 - \\alpha / 2} \\cdot \\dfrac{\\sigma}{\\sqrt{n}}\n",
    "    \\leq a \\leq \n",
    "    \\overline{X} + t_{1 - \\alpha / 2} \\cdot \\dfrac{\\sigma}{\\sqrt{n}}\n",
    "\\right) = p.\n",
    "$$"
   ]
  },
  {
   "cell_type": "markdown",
   "metadata": {},
   "source": [
    "Если p = 0.95, то альфа = 0.05"
   ]
  },
  {
   "cell_type": "code",
   "execution_count": 21,
   "metadata": {},
   "outputs": [],
   "source": [
    "sigma = 16\n",
    "p = 0.95\n",
    "alpha = 0.05\n",
    "X = 80\n",
    "n = 256\n",
    "df = n-1"
   ]
  },
  {
   "cell_type": "code",
   "execution_count": 22,
   "metadata": {},
   "outputs": [
    {
     "data": {
      "text/plain": [
       "-0.06270677794321385"
      ]
     },
     "execution_count": 22,
     "metadata": {},
     "output_type": "execute_result"
    }
   ],
   "source": [
    "q2 = stats.norm.ppf((1 - alpha) / 2)\n",
    "q2"
   ]
  },
  {
   "cell_type": "code",
   "execution_count": 23,
   "metadata": {},
   "outputs": [
    {
     "name": "stdout",
     "output_type": "stream",
     "text": [
      "80.06270677794322 <= a <= 79.93729322205678 = 0.95\n"
     ]
    }
   ],
   "source": [
    "# Интервал\n",
    "left = X - q2*sigma/np.sqrt(n)\n",
    "right = X + q2*sigma/np.sqrt(n)\n",
    "print(f'{left} <= a <= {right} = {p}')"
   ]
  },
  {
   "cell_type": "markdown",
   "metadata": {},
   "source": [
    "__Задача 3__\n",
    "\n",
    "Продавец утверждает, что средний вес пачки печенья составляет 200 г. Из партии извлечена выборка из 10 пачек. Вес каждой пачки составляет:\n",
    "```\n",
    "202, 203, 199, 197, 195, 201, 200, 204, 194, 190\n",
    "```\n",
    "Известно, что их веса распределены нормально. Верно ли утверждение продавца, если учитывать, что уровень значимости равен 1%?"
   ]
  },
  {
   "cell_type": "markdown",
   "metadata": {},
   "source": [
    "H0 гипотеза: средний вес пачки = 200 г (т.е. мат. ожидание = 200). \n",
    "\n",
    "alpha = 0.01\n",
    "\n",
    "n = 10\n",
    "\n",
    "Распределение нормальное, но больше ничего неизвестно.\n"
   ]
  },
  {
   "cell_type": "code",
   "execution_count": 28,
   "metadata": {},
   "outputs": [],
   "source": [
    "a = 200\n",
    "alpha = 0.01\n",
    "n = 10\n",
    "samples = np.array([202, 203, 199, 197, 195, 201, 200, 204, 194, 190])"
   ]
  },
  {
   "cell_type": "markdown",
   "metadata": {},
   "source": [
    "Найдём среднее и несмещённую оценку для среднего квадратического отклонения"
   ]
  },
  {
   "cell_type": "code",
   "execution_count": 29,
   "metadata": {},
   "outputs": [
    {
     "name": "stdout",
     "output_type": "stream",
     "text": [
      "mean: 198.5, std: 4.453463071962462\n"
     ]
    }
   ],
   "source": [
    "mean = samples.mean()\n",
    "std = samples.std(ddof=1)\n",
    "print(f'mean: {mean}, std: {std}')"
   ]
  },
  {
   "cell_type": "code",
   "execution_count": 30,
   "metadata": {},
   "outputs": [
    {
     "data": {
      "text/plain": [
       "3.2498355440153697"
      ]
     },
     "execution_count": 30,
     "metadata": {},
     "output_type": "execute_result"
    }
   ],
   "source": [
    "# Найдем квантиль\n",
    "q3 = stats.t.ppf(1 - alpha / 2, df=n - 1)\n",
    "q3"
   ]
  },
  {
   "cell_type": "markdown",
   "metadata": {},
   "source": [
    "Теперь нужно посчитать t-статистику Стьюдента:\n",
    "$$T(X) = \\dfrac{\\overline{X} - a}{\\sigma_X / \\sqrt{n}},$$\n",
    "$$T(X) = \\dfrac{\\overline{mean} - a}{std / \\sqrt{n}},$$"
   ]
  },
  {
   "cell_type": "code",
   "execution_count": 31,
   "metadata": {},
   "outputs": [
    {
     "data": {
      "text/plain": [
       "-1.0651074037450896"
      ]
     },
     "execution_count": 31,
     "metadata": {},
     "output_type": "execute_result"
    }
   ],
   "source": [
    "T = (mean-a)/std*np.sqrt(n)\n",
    "T"
   ]
  },
  {
   "cell_type": "markdown",
   "metadata": {},
   "source": [
    "Так как по данной статистике интервал критической области значимости будет от -бесконечности до -3.2498 и от 3.2498 до + бесконечности, а Т=-1.0651, то можем заключить, что гипотеза верна и мат. ожидание может быть равно 200."
   ]
  },
  {
   "cell_type": "code",
   "execution_count": null,
   "metadata": {},
   "outputs": [],
   "source": []
  }
 ],
 "metadata": {
  "kernelspec": {
   "display_name": "Python 3",
   "language": "python",
   "name": "python3"
  },
  "language_info": {
   "codemirror_mode": {
    "name": "ipython",
    "version": 3
   },
   "file_extension": ".py",
   "mimetype": "text/x-python",
   "name": "python",
   "nbconvert_exporter": "python",
   "pygments_lexer": "ipython3",
   "version": "3.7.1"
  }
 },
 "nbformat": 4,
 "nbformat_minor": 2
}
