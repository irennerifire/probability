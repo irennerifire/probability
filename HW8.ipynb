{
 "cells": [
  {
   "cell_type": "code",
   "execution_count": 1,
   "metadata": {},
   "outputs": [],
   "source": [
    "import numpy as np\n"
   ]
  },
  {
   "cell_type": "markdown",
   "metadata": {},
   "source": [
    "__Задача 1__\n",
    "\n",
    "Объясняемая переменная `y` зависит от двух категориальных факторов `A` и `B`, причём фактор `A` имеет 3 уровня, а фактор `B` - 4 уровня. Результаты наблюдений приведены в таблице:\n",
    "\n",
    "```\n",
    "y = [[2.68, 3.29, 2.88, 4.45],\n",
    "     [4.12, 4.96, 5.09, 5.22],\n",
    "     [5.52, 4.50, 5.42, 5.29]]\n",
    "```\n",
    "\n",
    "С помощью двухфакторного дисперсионного анализа проверьте влияние каждого из факторов на переменную `y`."
   ]
  },
  {
   "cell_type": "code",
   "execution_count": 7,
   "metadata": {},
   "outputs": [],
   "source": [
    "y = np.matrix([[2.68, 3.29, 2.88, 4.45],\n",
    "     [4.12, 4.96, 5.09, 5.22],\n",
    "     [5.52, 4.50, 5.42, 5.29]])"
   ]
  },
  {
   "cell_type": "code",
   "execution_count": 8,
   "metadata": {},
   "outputs": [
    {
     "data": {
      "text/plain": [
       "4.451666666666666"
      ]
     },
     "execution_count": 8,
     "metadata": {},
     "output_type": "execute_result"
    }
   ],
   "source": [
    "# общее среднее\n",
    "y_mean = y.mean()\n",
    "y_mean"
   ]
  },
  {
   "cell_type": "code",
   "execution_count": 12,
   "metadata": {},
   "outputs": [
    {
     "name": "stdout",
     "output_type": "stream",
     "text": [
      "Средние значения по фактору А для уровня 1 = 3.325, для уровня 2 = 4.8475, для уровня 3 = 5.1825\n"
     ]
    }
   ],
   "source": [
    "# среднее по A\n",
    "A_mean1 = y[0].mean()\n",
    "A_mean2 = y[1].mean()\n",
    "A_mean3 = y[2].mean()\n",
    "print(f'Средние значения по фактору А для уровня 1 = {A_mean1}, для уровня 2 = {A_mean2}, для уровня 3 = {A_mean3}')"
   ]
  },
  {
   "cell_type": "code",
   "execution_count": 15,
   "metadata": {},
   "outputs": [],
   "source": [
    "Amean_list = [A_mean1, A_mean2, A_mean3]"
   ]
  },
  {
   "cell_type": "code",
   "execution_count": 14,
   "metadata": {},
   "outputs": [
    {
     "name": "stdout",
     "output_type": "stream",
     "text": [
      "Средние значения по фактору А для уровня 1 = 4.1066666666666665, для уровня 2 = 4.25, для уровня 3 = 4.463333333333334, для уровня 4 = 4.986666666666667\n"
     ]
    }
   ],
   "source": [
    "# среднее по B\n",
    "B_mean1 = y[:, 0].mean()\n",
    "B_mean2 = y[:, 1].mean()\n",
    "B_mean3 = y[:, 2].mean()\n",
    "B_mean4 = y[:, 3].mean()\n",
    "print(f'Средние значения по фактору А для уровня 1 = {B_mean1}, для уровня 2 = {B_mean2}, для уровня 3 = {B_mean3}, для уровня 4 = {B_mean4}')"
   ]
  },
  {
   "cell_type": "code",
   "execution_count": 16,
   "metadata": {},
   "outputs": [],
   "source": [
    "Bmean_list = [B_mean1, B_mean2, B_mean3, B_mean4]"
   ]
  },
  {
   "cell_type": "code",
   "execution_count": 27,
   "metadata": {},
   "outputs": [],
   "source": [
    "m = 3\n",
    "k = 4"
   ]
  },
  {
   "cell_type": "code",
   "execution_count": 18,
   "metadata": {},
   "outputs": [
    {
     "name": "stdout",
     "output_type": "stream",
     "text": [
      "S_A = 7.8407166666666654, S_B = 5.880537499999999\n"
     ]
    }
   ],
   "source": [
    "# Посчитаем S_A, S_B\n",
    "suma = 0\n",
    "for i in range(m):\n",
    "    q = (Amean_list[i] - y_mean)**2\n",
    "    suma += q\n",
    "S_A = k*suma\n",
    "\n",
    "sumb = 0\n",
    "for i in range(k):\n",
    "    q = (Bmean_list[i] - y_mean)**2\n",
    "    sumb += q\n",
    "S_B =m*suma\n",
    "\n",
    "print(f'S_A = {S_A}, S_B = {S_B}')"
   ]
  },
  {
   "cell_type": "code",
   "execution_count": 39,
   "metadata": {},
   "outputs": [
    {
     "data": {
      "text/plain": [
       "1.9298833333333327"
      ]
     },
     "execution_count": 39,
     "metadata": {},
     "output_type": "execute_result"
    }
   ],
   "source": [
    "# Посчитаем Sres\n",
    "Sres = 0\n",
    "for i in range(y.shape[0]):\n",
    "    for j in range(y.shape[1]):\n",
    "        Sres += (y[i, j]- y[i, :].mean() - y[:, j].mean() + y_mean)**2\n",
    "Sres"
   ]
  },
  {
   "cell_type": "code",
   "execution_count": 40,
   "metadata": {},
   "outputs": [
    {
     "name": "stdout",
     "output_type": "stream",
     "text": [
      "sigmaA = 3.9203583333333327, sigmaB = 1.9601791666666664, sigma_res = 0.32164722222222214\n"
     ]
    }
   ],
   "source": [
    "sigmaA = S_A/(m - 1)\n",
    "sigmaB = S_B/(k - 1)\n",
    "sigma_res = Sres/((k - 1)*(m - 1))\n",
    "print(f'sigmaA = {sigmaA}, sigmaB = {sigmaB}, sigma_res = {sigma_res}')"
   ]
  },
  {
   "cell_type": "code",
   "execution_count": 41,
   "metadata": {},
   "outputs": [
    {
     "name": "stdout",
     "output_type": "stream",
     "text": [
      "Статистики для фактора А и фактора В соответственно равны: 12.188379262995173, 6.094189631497587\n"
     ]
    }
   ],
   "source": [
    "T_A = sigmaA/sigma_res\n",
    "T_B = sigmaB/sigma_res\n",
    "print(f'Статистики для фактора А и фактора В соответственно равны: {T_A}, {T_B}')"
   ]
  },
  {
   "cell_type": "markdown",
   "metadata": {},
   "source": [
    "Найдем критическое значение области значимости F для уровня значимости alpha = 0.05"
   ]
  },
  {
   "cell_type": "code",
   "execution_count": 45,
   "metadata": {},
   "outputs": [
    {
     "name": "stdout",
     "output_type": "stream",
     "text": [
      "Критические значения для факторов A и B соответственно равны 4.25649472909375 и 4.06618055135116\n"
     ]
    }
   ],
   "source": [
    "from scipy import stats\n",
    "n = y.size\n",
    "alpha = 0.05\n",
    "k1a = m - 1\n",
    "k2a = n - m\n",
    "k1b = k - 1\n",
    "k2b = n - k\n",
    "\n",
    "F_A = stats.f.ppf(1 - alpha, k1a, k2a)\n",
    "F_B = stats.f.ppf(1 - alpha, k1b, k2b)\n",
    "print(f'Критические значения для факторов A и B соответственно равны {F_A} и {F_B}')"
   ]
  },
  {
   "cell_type": "markdown",
   "metadata": {},
   "source": [
    "Видим, что для обоих факторов A и B значения статистик больше, чем критические значения, а значит, эти факторы влияют на исследуемую переменную Y."
   ]
  },
  {
   "cell_type": "markdown",
   "metadata": {},
   "source": [
    "__Задача 2__\n",
    "\n",
    "С помощью критерия Стьюдента для двух независимых выборок проверьте гипотезу о равенстве среднего роста футболистов и хоккеистов, основываясь на результатах измерений:\n",
    "\n",
    "```\n",
    "football_players = [173, 175, 180, 178, 177, 185, 183, 182]\n",
    "hockey_players = [177, 179, 180, 188, 177, 172, 171, 184, 180]\n",
    "```"
   ]
  },
  {
   "cell_type": "code",
   "execution_count": 46,
   "metadata": {},
   "outputs": [],
   "source": [
    "football = np.array([173, 175, 180, 178, 177, 185, 183, 182])\n",
    "hockey = np.array([177, 179, 180, 188, 177, 172, 171, 184, 180])"
   ]
  },
  {
   "cell_type": "code",
   "execution_count": 51,
   "metadata": {},
   "outputs": [
    {
     "name": "stdout",
     "output_type": "stream",
     "text": [
      "f_mean = 179.125, h_mean = 178.66666666666666\n"
     ]
    }
   ],
   "source": [
    "f_mean = football.mean()\n",
    "h_mean = hockey.mean()\n",
    "print(f'f_mean = {f_mean}, h_mean = {h_mean}')"
   ]
  },
  {
   "cell_type": "code",
   "execution_count": 52,
   "metadata": {},
   "outputs": [
    {
     "name": "stdout",
     "output_type": "stream",
     "text": [
      "fsigma = 3.8547859862773186, hsigma = 5.033222956847166\n"
     ]
    }
   ],
   "source": [
    "fsigma = np.std(football)\n",
    "hsigma = np.std(hockey)\n",
    "print(f'fsigma = {fsigma}, hsigma = {hsigma}')"
   ]
  },
  {
   "cell_type": "code",
   "execution_count": 53,
   "metadata": {},
   "outputs": [],
   "source": [
    "fn = len(football)\n",
    "hn = len(hockey)"
   ]
  },
  {
   "cell_type": "code",
   "execution_count": 54,
   "metadata": {},
   "outputs": [
    {
     "data": {
      "text/plain": [
       "0.4491963433884257"
      ]
     },
     "execution_count": 54,
     "metadata": {},
     "output_type": "execute_result"
    }
   ],
   "source": [
    "T = (f_mean - h_mean)/ np.sqrt(fsigma/fn + hsigma/hn)\n",
    "T"
   ]
  },
  {
   "cell_type": "code",
   "execution_count": 56,
   "metadata": {},
   "outputs": [
    {
     "name": "stdout",
     "output_type": "stream",
     "text": [
      "Критическое значение для распределений роста футболистов и хоккеистов равно 2.131449545559323\n"
     ]
    }
   ],
   "source": [
    "# найдем квантиль критического значения для распределения Стьюдента\n",
    "alpha = 0.05\n",
    "\n",
    "q = stats.t.ppf(1 - alpha / 2, df = fn + hn - 2)\n",
    "print(f'Критическое значение для распределений роста футболистов и хоккеистов равно {q}')"
   ]
  },
  {
   "cell_type": "markdown",
   "metadata": {},
   "source": [
    "Видим, что значение статистики превосходит критическое, что говорит о равенстве среднего роста футболистов и хоккеистов."
   ]
  },
  {
   "cell_type": "markdown",
   "metadata": {},
   "source": [
    "##### Задание 3"
   ]
  },
  {
   "cell_type": "code",
   "execution_count": null,
   "metadata": {},
   "outputs": [],
   "source": [
    "https://www.kaggle.com/irennerifire/got-var1/edit"
   ]
  }
 ],
 "metadata": {
  "kernelspec": {
   "display_name": "Python 3",
   "language": "python",
   "name": "python3"
  },
  "language_info": {
   "codemirror_mode": {
    "name": "ipython",
    "version": 3
   },
   "file_extension": ".py",
   "mimetype": "text/x-python",
   "name": "python",
   "nbconvert_exporter": "python",
   "pygments_lexer": "ipython3",
   "version": "3.7.1"
  }
 },
 "nbformat": 4,
 "nbformat_minor": 2
}
