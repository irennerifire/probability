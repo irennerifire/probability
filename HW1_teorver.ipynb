{
 "cells": [
  {
   "cell_type": "code",
   "execution_count": 1,
   "metadata": {},
   "outputs": [],
   "source": [
    "import numpy as np"
   ]
  },
  {
   "cell_type": "markdown",
   "metadata": {},
   "source": [
    "#### Задача 1\n",
    "\n",
    "Из колоды в 52 карты вынимают случайным образом 4 карты. Найти число исходов, соответствующих тому, что был вытянут хотя бы один туз."
   ]
  },
  {
   "cell_type": "markdown",
   "metadata": {},
   "source": [
    "В колоде 4 туза. Значит, можно вытянуть 1 туза из четырех. Какой туз по счету из 4-х карт - неважно. Значит, нужно использовать метод сочетаний. \n",
    "Или \"хотя бы 1 туз\" значит, что тузов может быть и 2,  3, и 4?\n",
    "Получается, из 4-х вытягиваемых карт, тузом должна быть 1 (в крайнем случае) или 2, или 3, или все 4 карты должны оказаться тузами.\n",
    "Тогда нужно отдельно методом сочетаний посчитать вероятность для выпадения 1 туза, 2, 3 или 4-х из 4-х, а затем все это сложить."
   ]
  },
  {
   "cell_type": "code",
   "execution_count": 5,
   "metadata": {},
   "outputs": [],
   "source": [
    "def combinations(n: int, k: int) -> int:\n",
    "    \"\"\"Число сочетаний.\n",
    "    \"\"\"\n",
    "    \n",
    "    return np.math.factorial(n) // (np.math.factorial(k) * np.math.factorial(n - k))"
   ]
  },
  {
   "cell_type": "code",
   "execution_count": 10,
   "metadata": {},
   "outputs": [
    {
     "data": {
      "text/plain": [
       "69184"
      ]
     },
     "execution_count": 10,
     "metadata": {},
     "output_type": "execute_result"
    }
   ],
   "source": [
    "#1 туз из 4\n",
    "tuz = combinations(4, 1)\n",
    "ost = combinations(48, 3)\n",
    "ver1 = tuz*ost\n",
    "ver1"
   ]
  },
  {
   "cell_type": "code",
   "execution_count": 11,
   "metadata": {},
   "outputs": [
    {
     "data": {
      "text/plain": [
       "6768"
      ]
     },
     "execution_count": 11,
     "metadata": {},
     "output_type": "execute_result"
    }
   ],
   "source": [
    "#2 туз из 4\n",
    "tuz = combinations(4, 2)\n",
    "ost = combinations(48, 2)\n",
    "ver2 = tuz*ost\n",
    "ver2"
   ]
  },
  {
   "cell_type": "code",
   "execution_count": 12,
   "metadata": {},
   "outputs": [
    {
     "data": {
      "text/plain": [
       "192"
      ]
     },
     "execution_count": 12,
     "metadata": {},
     "output_type": "execute_result"
    }
   ],
   "source": [
    "#3 туз из 4\n",
    "tuz = combinations(4, 3)\n",
    "ost = combinations(48, 1)\n",
    "ver3 = tuz*ost\n",
    "ver3"
   ]
  },
  {
   "cell_type": "code",
   "execution_count": 14,
   "metadata": {},
   "outputs": [
    {
     "data": {
      "text/plain": [
       "270725"
      ]
     },
     "execution_count": 14,
     "metadata": {},
     "output_type": "execute_result"
    }
   ],
   "source": [
    "#4 туз из 4\n",
    "#tuz = combinations(4, 4)\n",
    "#ost = combinations(48, 0)\n",
    "ver4 = combinations(52, 4)\n",
    "#ver4 = tuz*ost\n",
    "ver4"
   ]
  },
  {
   "cell_type": "code",
   "execution_count": null,
   "metadata": {},
   "outputs": [],
   "source": [
    "Но последняя вероятность наоборот должна быть меньше всех..."
   ]
  },
  {
   "cell_type": "markdown",
   "metadata": {},
   "source": [
    "#### __Задача 2__\n",
    "\n",
    "Семь человек рассаживаются наудачу на скамейке. Какова вероятность того, что рядом будут сидеть: а) два определённых человека? б) три определённых человека?"
   ]
  },
  {
   "cell_type": "code",
   "execution_count": null,
   "metadata": {},
   "outputs": [],
   "source": [
    "Эта задача также на сочетания, потому что не важен порядок, но важна \"определенность\" человека. \n",
    "Всего имеется 7 человек (n), из них для подзадачи а) мы исследуем 2-х, для подзадачи б) 3-х человек.\n",
    "Значит, нам нужно узнать число способов посадить 2 (или 3) человек рядом из 7."
   ]
  },
  {
   "cell_type": "code",
   "execution_count": 16,
   "metadata": {},
   "outputs": [
    {
     "data": {
      "text/plain": [
       "21"
      ]
     },
     "execution_count": 16,
     "metadata": {},
     "output_type": "execute_result"
    }
   ],
   "source": [
    "# а)\n",
    "combinations(7, 2)"
   ]
  },
  {
   "cell_type": "code",
   "execution_count": 17,
   "metadata": {},
   "outputs": [
    {
     "data": {
      "text/plain": [
       "35"
      ]
     },
     "execution_count": 17,
     "metadata": {},
     "output_type": "execute_result"
    }
   ],
   "source": [
    "# б)\n",
    "combinations(7, 3)"
   ]
  },
  {
   "cell_type": "markdown",
   "metadata": {},
   "source": [
    "#### __Задача 3__\n",
    "\n",
    "Из 60 вопросов, входящих в экзаменационные билеты, студент знает 50. Какова вероятность того, что среди трёх наугад выбранных вопросов студент знает: а) все? б) два?"
   ]
  },
  {
   "cell_type": "raw",
   "metadata": {},
   "source": [
    "Задача о том, сколькими способами можно выбрать 3 билета из 60 так, что все 3 -известны, 2 из 3-х известны.\n",
    "Всего 60 вопросов (n). Задача а) сводиться к вероятности вытянуть 3 билета из 50 и 0 из 60. Задача б) - задача на сочетание 2-х вероятностей:\n",
    "1 билет вытягивается из 60-50=10 неизвестных билетов и 2 билета вытягиваются из 50 известных."
   ]
  },
  {
   "cell_type": "code",
   "execution_count": 18,
   "metadata": {},
   "outputs": [
    {
     "data": {
      "text/plain": [
       "19600"
      ]
     },
     "execution_count": 18,
     "metadata": {},
     "output_type": "execute_result"
    }
   ],
   "source": [
    "#a)\n",
    "combinations(50, 3)"
   ]
  },
  {
   "cell_type": "code",
   "execution_count": 20,
   "metadata": {},
   "outputs": [
    {
     "data": {
      "text/plain": [
       "12250"
      ]
     },
     "execution_count": 20,
     "metadata": {},
     "output_type": "execute_result"
    }
   ],
   "source": [
    "#б)\n",
    "ver = combinations(10, 1)*combinations(50, 2)\n",
    "ver"
   ]
  },
  {
   "cell_type": "markdown",
   "metadata": {},
   "source": [
    "#### __Задача 4__\n",
    "\n",
    "Бросается игральная кость. Пусть событие `A` - появление чётного числа, событие `B` - появление числа больше трёх. Являются ли эти события независимыми?"
   ]
  },
  {
   "cell_type": "raw",
   "metadata": {},
   "source": [
    "Четное/нечетное число явно может быть больше 3-х: 4, 6. То есть если выпадает четное число, то оно МОЖЕТ БЫТЬ больше 3-х. А может и не быть. С другой стороны, если выпадает число больше 3-х, то оно в 2-х случаях из 3-х будет четным. Но здесь нет четкой взаимосвязи, что одно событие обуславлиет другое. Например, если температура опуститься ниже -5, то будет холодно. В этом случае нет всяких \"или\", погода точно будтт холодной - прямая взаимосвязь.\n",
    "Поэтому я склоняюсь к тому, что эти события независимы."
   ]
  },
  {
   "cell_type": "markdown",
   "metadata": {},
   "source": [
    "#### __Задача 5__\n",
    "\n",
    "Допустим, имеется некоторая очень редкая болезнь (поражает 0.1% населения). Вы приходите к врачу, вам делают тест на эту болезнь, и тест оказывается положительным. Врач говорит вам, что этот тест верно выявляет 99% больных этой болезнью и всего лишь в 1% случаев даёт ложный положительный ответ.\n",
    "\n",
    "_Вопрос_: какова вероятность, что вы действительно больны ей?\n",
    "\n",
    "_Подсказка_: вновь используйте формулу Байеса с раскрытием знаменателя с помощью формулы полной вероятности."
   ]
  },
  {
   "cell_type": "code",
   "execution_count": null,
   "metadata": {},
   "outputs": [],
   "source": [
    "Вообще, вероятность"
   ]
  }
 ],
 "metadata": {
  "kernelspec": {
   "display_name": "Python 3",
   "language": "python",
   "name": "python3"
  },
  "language_info": {
   "codemirror_mode": {
    "name": "ipython",
    "version": 3
   },
   "file_extension": ".py",
   "mimetype": "text/x-python",
   "name": "python",
   "nbconvert_exporter": "python",
   "pygments_lexer": "ipython3",
   "version": "3.7.1"
  }
 },
 "nbformat": 4,
 "nbformat_minor": 2
}
